{
 "cells": [
  {
   "cell_type": "markdown",
   "metadata": {},
   "source": [
    "Before you turn this problem in, make sure everything runs as expected. First, **restart the kernel** (in the menubar, select Kernel$\\rightarrow$Restart) and then **run all cells** (in the menubar, select Cell$\\rightarrow$Run All).\n",
    "\n",
    "Make sure you fill in any place that says `YOUR CODE HERE` or \"YOUR ANSWER HERE\", as well as your name and collaborators below:"
   ]
  },
  {
   "cell_type": "code",
   "execution_count": 1,
   "metadata": {},
   "outputs": [],
   "source": [
    "NAME = \"W.F.M. van der Meiden, 2014236\"\n",
    "COLLABORATORS = \"M.A.H.C.L. van Riel, 2018335\""
   ]
  },
  {
   "cell_type": "markdown",
   "metadata": {},
   "source": [
    "---"
   ]
  },
  {
   "cell_type": "markdown",
   "metadata": {},
   "source": [
    "Fill in the cell above to provide us with your name and student number, like\n",
    "\n",
    "NAME = \"Adam Smith, #student number#\"\n",
    "\n",
    "where you replace \"#student number#\" with your ... (very good!)\n",
    "\n",
    "and if you are doing this with someone else (not more than one other person):\n",
    "\n",
    "COLLABORATORS = \"Karl Marx, #student number#\""
   ]
  },
  {
   "cell_type": "markdown",
   "metadata": {
    "deletable": false,
    "editable": false,
    "nbgrader": {
     "checksum": "a7ae5c69becf064d614c6c38935eca51",
     "grade": false,
     "grade_id": "cell-895e9a7b94992ec9",
     "locked": true,
     "schema_version": 1,
     "solution": false
    }
   },
   "source": [
    "# exam June 7th, 2018\n"
   ]
  },
  {
   "cell_type": "markdown",
   "metadata": {
    "deletable": false,
    "editable": false,
    "nbgrader": {
     "checksum": "bc48d165f54aa364aa34509649fcdef5",
     "grade": false,
     "grade_id": "cell-540987818af25557",
     "locked": true,
     "schema_version": 1,
     "solution": false
    }
   },
   "source": [
    "\n",
    "In the first cell of the notebook, give us your name and student number in the way indicated above. If you do this notebook with --at max.-- one other student, give her/his name and student number as well under \"COLLABORATORS\".\n",
    "\n",
    "Fill in the notebook (see below for code cells and text cells that you need to fill in).\n",
    "\n",
    "If you look at the menus above (File, Edit, View etc.), there is one called \"Cell\". If you click on this, you can change the \"Cell Type\". Choose \"Code\" when you are typing python or R code. Choose \"Markdown\" when you are typing, well, markdown.\n",
    "\n",
    "When you finish the notebook, make sure that you **save it with the output of your code included**. \n",
    "\n",
    "Then put it on github, e.g. by dragging it onto github (see instructions below). \n",
    "\n",
    "Finally, add a link to your README file with the name of this exam: \"Exam June 7, 2018\".\n",
    "\n"
   ]
  },
  {
   "cell_type": "markdown",
   "metadata": {
    "deletable": false,
    "editable": false,
    "nbgrader": {
     "checksum": "6fad9bed312da1b0097e9c520b18e3fb",
     "grade": false,
     "grade_id": "cell-e1cf88cb799f1f43",
     "locked": true,
     "schema_version": 1,
     "solution": false
    }
   },
   "source": [
    "## price effects of mergers\n",
    "\n",
    "We consider a merger in this notebook. \n",
    "\n",
    "First we calculate the equilibrium with three firms, denoted by 1, 2 and 3. Then firms 2 and 3 merge so that we are left with 2 firms; denoted by 1 and 2.\n",
    "\n",
    "We calculate the effects of the merger on the equilibrium price.\n",
    "\n",
    "We start by importing the usual libraries."
   ]
  },
  {
   "cell_type": "code",
   "execution_count": 2,
   "metadata": {
    "deletable": false,
    "editable": false,
    "nbgrader": {
     "checksum": "7bd770ef54db47c3b6c8d0e31f6baef6",
     "grade": false,
     "grade_id": "cell-b895769bf40e183a",
     "locked": true,
     "schema_version": 1,
     "solution": false
    }
   },
   "outputs": [],
   "source": [
    "import matplotlib.pyplot as plt\n",
    "import pandas as pd\n",
    "import numpy as np\n",
    "from scipy import optimize\n",
    "%matplotlib inline"
   ]
  },
  {
   "cell_type": "markdown",
   "metadata": {},
   "source": [
    "The following code helps to calculate the equilibrium for the case with 3 firms. Note that you have seen similar code during the tutorials to calculate the equilibrium with 2 firms.\n",
    "\n",
    "We assume that before the merger each firm has constant marginal costs equal to 0.3. We assume a simple linear (inverse) demand curve of the form $p=1-Q$ where $p$ denotes price and $Q$ total output on the market. Total output equals the sum of each firm's output: $Q= q_1 + q_2+q_3$."
   ]
  },
  {
   "cell_type": "code",
   "execution_count": 3,
   "metadata": {
    "deletable": false,
    "editable": false,
    "nbgrader": {
     "checksum": "3e30f7ac9d9155ef089b8ca56a0c0436",
     "grade": false,
     "grade_id": "cell-f97a25efed556fd2",
     "locked": true,
     "schema_version": 1,
     "solution": false
    }
   },
   "outputs": [],
   "source": [
    "c0 = 0.3\n",
    "vector_c = [c0]*3\n",
    "\n",
    "def p(Q):\n",
    "    return 1 - Q\n",
    "\n",
    "def costs(q,c):\n",
    "    return c*q\n",
    "\n",
    "def profits(q,Q_other,c):\n",
    "    return p(q+Q_other)*q-costs(q,c)\n",
    "\n",
    "def reaction(Q_other,c):\n",
    "    q1 =  optimize.fminbound(lambda x: -profits(x,Q_other,c),0,1,full_output=1)\n",
    "    return q1[0]\n",
    "\n",
    "def fixed_point_three_firms(vector_q,vector_c):\n",
    "    return [vector_q[0]-reaction(vector_q[1]+vector_q[2],vector_c[0]),\n",
    "            vector_q[1]-reaction(vector_q[0]+vector_q[2],vector_c[1]),\n",
    "            vector_q[2]-reaction(vector_q[0]+vector_q[1],vector_c[2])]\n",
    "\n"
   ]
  },
  {
   "cell_type": "markdown",
   "metadata": {
    "deletable": false,
    "editable": false,
    "nbgrader": {
     "checksum": "f6ea3b2416aca7293a5450c45865f242",
     "grade": false,
     "grade_id": "cell-83284c4090d6de8c",
     "locked": true,
     "schema_version": 1,
     "solution": false
    }
   },
   "source": [
    "#### a) [0.5 points] Show that total equilibrium output equals  0.525. Derive the equilibrium price and Herfindahl index; denote these by `P0` and `H0` resp."
   ]
  },
  {
   "cell_type": "code",
   "execution_count": 4,
   "metadata": {},
   "outputs": [
    {
     "name": "stdout",
     "output_type": "stream",
     "text": [
      "[0.175 0.175 0.175]\n"
     ]
    }
   ],
   "source": [
    "initial_guess = [0, 0, 0]\n",
    "vector_q = optimize.fsolve(lambda q: fixed_point_three_firms(q, vector_c), initial_guess)\n",
    "print(vector_q)"
   ]
  },
  {
   "cell_type": "code",
   "execution_count": 5,
   "metadata": {
    "deletable": false,
    "nbgrader": {
     "checksum": "a06d73c35395adb00480733b458cb4a5",
     "grade": true,
     "grade_id": "cell-3b8ee172d9950128",
     "locked": false,
     "points": 0.5,
     "schema_version": 1,
     "solution": true
    }
   },
   "outputs": [
    {
     "name": "stdout",
     "output_type": "stream",
     "text": [
      "0.525\n",
      "0.475\n",
      "0.2222222222222225\n"
     ]
    }
   ],
   "source": [
    "Q = round(sum([0.175, 0.175, 0.175]), 3)\n",
    "print(Q)\n",
    "\n",
    "# For Q = 0.525 follows:\n",
    "P0 = p(0.525)\n",
    "print(P0)\n",
    "\n",
    "def I(p, vector_q, Q):\n",
    "    return ((vector_q[0]*p) / (Q*p)) ** 2 + ((vector_q[1]*p) / (Q*p)) ** 2 # Herfindahl Index\n",
    "H0 = I(P0, vector_q, 0.525)\n",
    "print(H0)"
   ]
  },
  {
   "cell_type": "markdown",
   "metadata": {
    "deletable": false,
    "editable": false,
    "nbgrader": {
     "checksum": "87b3b3e0e2d645c280e279312e489dc4",
     "grade": false,
     "grade_id": "cell-4b33762aa4a601fe",
     "locked": true,
     "schema_version": 1,
     "solution": false
    }
   },
   "source": [
    "#### b) [0.5 point] Define a function `fixed_point_two_firms` with the same structure as the function `fixed_point_three_firms` above, except that it derives the equilibrium output levels for a duopoly (two firms). Test this function by showing that each of the two firms produces 0.3333 in case both firms have zero costs."
   ]
  },
  {
   "cell_type": "code",
   "execution_count": 6,
   "metadata": {
    "deletable": false,
    "nbgrader": {
     "checksum": "024a1519155d681b57c85292df535a65",
     "grade": true,
     "grade_id": "cell-5ee215676b91f504",
     "locked": false,
     "points": 0.5,
     "schema_version": 1,
     "solution": true
    }
   },
   "outputs": [
    {
     "name": "stdout",
     "output_type": "stream",
     "text": [
      "[ True  True]\n"
     ]
    }
   ],
   "source": [
    "def reaction_two_firms(Q_other,c):\n",
    "    q2 =  optimize.fminbound(lambda x: -profits(x,Q_other,c),0,1,full_output=1)\n",
    "    return q2[0]\n",
    "\n",
    "def fixed_point_two_firms(vector_q, vector_c):\n",
    "    return [vector_q[0]-reaction_two_firms(vector_q[1], vector_c[0]),\n",
    "            vector_q[1]-reaction_two_firms(vector_q[0], vector_c[1])]\n",
    "\n",
    "vector_c_two_firms = [0, 0]\n",
    "\n",
    "initial_guess_2 = [0, 0]\n",
    "vector_q_two_firms = np.around(optimize.fsolve(lambda q: fixed_point_two_firms(q, vector_c_two_firms), initial_guess_2), 4)\n",
    "vector_test = [0.3333, 0.3333]\n",
    "\n",
    "print(np.array(vector_q_two_firms) == np.array(vector_test))"
   ]
  },
  {
   "cell_type": "markdown",
   "metadata": {},
   "source": [
    "From the previous output follows that `vector_q_two_firms` denotes an accurate function for determining the equilibrium output Q for a market of two firms, both with zero costs. By comparing both te `vector_q_two_firms` and the `vector_test` the code gives the output `[ True  True]` which states that both vectors are equal to eachother.  \n",
    "___"
   ]
  },
  {
   "cell_type": "markdown",
   "metadata": {
    "deletable": false,
    "editable": false,
    "nbgrader": {
     "checksum": "5291fc8716e367572fde17ebe5844d2f",
     "grade": false,
     "grade_id": "cell-c2fada02efd7b197",
     "locked": true,
     "schema_version": 1,
     "solution": false
    }
   },
   "source": [
    "The Dutch competition authority, ACM, is asked to evaluate the effects of a merger between firms 2 and 3. Firms 2 and 3 claim that by merging they can reduce their constant marginal costs. But it is not clear by how much they will reduce their costs.\n",
    "\n",
    "The ACM assumes that the marginal cost level of the merged firm is uniformly distributed between 0 and the current marginal cost level `c0`. The merger will not affect the marginal cost level of firm 1 who does not merge. Firm 1's cost level remains `c0`.\n",
    "\n",
    "The next cell generates a vector of cost levels for the merged firm, denoted `c_after_merger`. Evaluate \"c_after_merger\" in a separate cell if you do not understand the command that defines it.\n",
    "\n",
    "Then it calculates the equilibrium output levels for (the non-merging) firm 1 and (the merged) firm 2.\n",
    "\n",
    "Note that you need to specify `initial_guess`.\n"
   ]
  },
  {
   "cell_type": "code",
   "execution_count": 7,
   "metadata": {},
   "outputs": [],
   "source": [
    "initial_guess = [0,0]"
   ]
  },
  {
   "cell_type": "code",
   "execution_count": 8,
   "metadata": {
    "deletable": false,
    "editable": false,
    "nbgrader": {
     "checksum": "11299317cd53e31de9900700999b0324",
     "grade": false,
     "grade_id": "cell-ce91ab3e3225c57d",
     "locked": true,
     "schema_version": 1,
     "solution": false
    }
   },
   "outputs": [],
   "source": [
    "c_after_merger = np.random.uniform(0,c0,size = 100)\n",
    "\n",
    "q1_after_merger = [optimize.fsolve(lambda q: fixed_point_two_firms(q,[c0,c]), initial_guess)[0] for c in c_after_merger]\n",
    "q2_after_merger = [optimize.fsolve(lambda q: fixed_point_two_firms(q,[c0,c]), initial_guess)[1] for c in c_after_merger]\n",
    "\n",
    "\n"
   ]
  },
  {
   "cell_type": "markdown",
   "metadata": {
    "deletable": false,
    "editable": false,
    "nbgrader": {
     "checksum": "2b518306d6ff20ee42d0bc3085333095",
     "grade": false,
     "grade_id": "cell-0acc18b4f07a09f4",
     "locked": true,
     "schema_version": 1,
     "solution": false
    }
   },
   "source": [
    "#### c) [0.5 points] Create a dataframe called `df_after_merger` with three columns: `c_merged_firm`, `output_non_merging_firm`, `output_merged_firm` containing resp. the cost level of the merged firm, the output level of firm 1 and the output level of firm 2."
   ]
  },
  {
   "cell_type": "code",
   "execution_count": 9,
   "metadata": {
    "deletable": false,
    "nbgrader": {
     "checksum": "f4fc6a3bdef91fa3f656ccd3290c9f54",
     "grade": true,
     "grade_id": "cell-f3eacda828774f2d",
     "locked": false,
     "points": 0.5,
     "schema_version": 1,
     "solution": true
    }
   },
   "outputs": [
    {
     "name": "stdout",
     "output_type": "stream",
     "text": [
      "   c_merged_firm  output_merged_firm  output_non_merging_firm\n",
      "0       0.223605            0.284263                 0.207868\n",
      "1       0.216833            0.288778                 0.205611\n",
      "2       0.199306            0.300462                 0.199769\n",
      "3       0.241403            0.272398                 0.213801\n",
      "4       0.101012            0.365992                 0.167004\n"
     ]
    }
   ],
   "source": [
    "c_array = np.array(c_after_merger)\n",
    "q1_array = np.array(q1_after_merger)\n",
    "q2_array = np.array(q2_after_merger)\n",
    "\n",
    "data = {'c_merged_firm' : c_array, \n",
    "        'output_non_merging_firm' : q1_array, \n",
    "        'output_merged_firm' : q2_array} # kolommen moeten omgedraaid worden\n",
    "\n",
    "df_after_merger = pd.DataFrame(data = data)\n",
    "\n",
    "print(df_after_merger.head())"
   ]
  },
  {
   "cell_type": "markdown",
   "metadata": {
    "deletable": false,
    "editable": false,
    "nbgrader": {
     "checksum": "a5bf4171960844da9c57375d83b6eedf",
     "grade": false,
     "grade_id": "cell-7ad058be42e19df8",
     "locked": true,
     "schema_version": 1,
     "solution": false
    }
   },
   "source": [
    "#### d) [0.5 points] Add three columns to the dataframe with resp. total equilibrium output on the market, `Q`, equilibrium price, `P` and the Herfindahl index, `H`."
   ]
  },
  {
   "cell_type": "code",
   "execution_count": 10,
   "metadata": {
    "deletable": false,
    "nbgrader": {
     "checksum": "ab6179623b39a6ae634abea45326e4ab",
     "grade": true,
     "grade_id": "cell-9c39b11747803ca1",
     "locked": false,
     "points": 0.5,
     "schema_version": 1,
     "solution": true
    }
   },
   "outputs": [
    {
     "data": {
      "text/html": [
       "<div>\n",
       "<style scoped>\n",
       "    .dataframe tbody tr th:only-of-type {\n",
       "        vertical-align: middle;\n",
       "    }\n",
       "\n",
       "    .dataframe tbody tr th {\n",
       "        vertical-align: top;\n",
       "    }\n",
       "\n",
       "    .dataframe thead th {\n",
       "        text-align: right;\n",
       "    }\n",
       "</style>\n",
       "<table border=\"1\" class=\"dataframe\">\n",
       "  <thead>\n",
       "    <tr style=\"text-align: right;\">\n",
       "      <th></th>\n",
       "      <th>c_merged_firm</th>\n",
       "      <th>output_merged_firm</th>\n",
       "      <th>output_non_merging_firm</th>\n",
       "      <th>equilibrium_output</th>\n",
       "      <th>equilibrium_price</th>\n",
       "      <th>Herfindahl_Index</th>\n",
       "    </tr>\n",
       "  </thead>\n",
       "  <tbody>\n",
       "    <tr>\n",
       "      <th>0</th>\n",
       "      <td>0.223605</td>\n",
       "      <td>0.284263</td>\n",
       "      <td>0.207868</td>\n",
       "      <td>0.492132</td>\n",
       "      <td>0.507868</td>\n",
       "      <td>0.512049</td>\n",
       "    </tr>\n",
       "    <tr>\n",
       "      <th>1</th>\n",
       "      <td>0.216833</td>\n",
       "      <td>0.288778</td>\n",
       "      <td>0.205611</td>\n",
       "      <td>0.494389</td>\n",
       "      <td>0.505611</td>\n",
       "      <td>0.514149</td>\n",
       "    </tr>\n",
       "    <tr>\n",
       "      <th>2</th>\n",
       "      <td>0.199306</td>\n",
       "      <td>0.300462</td>\n",
       "      <td>0.199769</td>\n",
       "      <td>0.500231</td>\n",
       "      <td>0.499769</td>\n",
       "      <td>0.520260</td>\n",
       "    </tr>\n",
       "    <tr>\n",
       "      <th>3</th>\n",
       "      <td>0.241403</td>\n",
       "      <td>0.272398</td>\n",
       "      <td>0.213801</td>\n",
       "      <td>0.486199</td>\n",
       "      <td>0.513801</td>\n",
       "      <td>0.507263</td>\n",
       "    </tr>\n",
       "    <tr>\n",
       "      <th>4</th>\n",
       "      <td>0.101012</td>\n",
       "      <td>0.365992</td>\n",
       "      <td>0.167004</td>\n",
       "      <td>0.532996</td>\n",
       "      <td>0.467004</td>\n",
       "      <td>0.569691</td>\n",
       "    </tr>\n",
       "  </tbody>\n",
       "</table>\n",
       "</div>"
      ],
      "text/plain": [
       "   c_merged_firm  output_merged_firm  output_non_merging_firm  \\\n",
       "0       0.223605            0.284263                 0.207868   \n",
       "1       0.216833            0.288778                 0.205611   \n",
       "2       0.199306            0.300462                 0.199769   \n",
       "3       0.241403            0.272398                 0.213801   \n",
       "4       0.101012            0.365992                 0.167004   \n",
       "\n",
       "   equilibrium_output  equilibrium_price  Herfindahl_Index  \n",
       "0            0.492132           0.507868          0.512049  \n",
       "1            0.494389           0.505611          0.514149  \n",
       "2            0.500231           0.499769          0.520260  \n",
       "3            0.486199           0.513801          0.507263  \n",
       "4            0.532996           0.467004          0.569691  "
      ]
     },
     "execution_count": 10,
     "metadata": {},
     "output_type": "execute_result"
    }
   ],
   "source": [
    "def H(p, Q, q1, q2):\n",
    "    return ((q1*p)/(Q*p))**2 + ((q2*p)/(Q*p))**2\n",
    "df_after_merger['equilibrium_output'] = df_after_merger['output_merged_firm'] + df_after_merger['output_non_merging_firm']\n",
    "df_after_merger['equilibrium_price'] = 1 - df_after_merger['equilibrium_output']\n",
    "df_after_merger['Herfindahl_Index'] = H(df_after_merger['equilibrium_price'], \n",
    "                                        df_after_merger['equilibrium_output'], \n",
    "                                        df_after_merger['output_non_merging_firm'], \n",
    "                                        df_after_merger['output_merged_firm'])\n",
    "df_after_merger.head()"
   ]
  },
  {
   "cell_type": "markdown",
   "metadata": {},
   "source": [
    "#### e) [0.5 points] Make a histogram of the equilibrium price `P` after the merger. Also indicate in the histogram the equilibrium price before the merger `P0`. Label the horizontal axis with $P$.\n",
    "\n",
    "[hint: you may want to use matplotlib's `hist`, `vlines` and `legend` to make this graph (e.g use google to find these functions); but feel free to use something else]"
   ]
  },
  {
   "cell_type": "code",
   "execution_count": 11,
   "metadata": {
    "deletable": false,
    "nbgrader": {
     "checksum": "b103cd98545261b20f937f4b9db67f68",
     "grade": true,
     "grade_id": "cell-f9193bf8e71f1a9a",
     "locked": false,
     "points": 0.5,
     "schema_version": 1,
     "solution": true
    }
   },
   "outputs": [
    {
     "data": {
      "image/png": "[encoded data removed]",
      "text/plain": [
       "<matplotlib.figure.Figure at 0x28fe7280dd8>"
      ]
     },
     "metadata": {},
     "output_type": "display_data"
    }
   ],
   "source": [
    "plt.hist(df_after_merger['equilibrium_price'], bins = 15)\n",
    "plt.xlabel('P')\n",
    "plt.ylabel('Count')\n",
    "plt.vlines(P0, 0, 15)\n",
    "plt.show()"
   ]
  },
  {
   "cell_type": "markdown",
   "metadata": {},
   "source": [
    "#### f) [0.5 points] Explain why sometimes the equilibrium price after the merger exceeds the equilibrium price before the merger and sometimes it is lower than the pre-merger price. [hint: there is a trade off between two effects, depending on which effect dominates, equilibrium price increases or decreases after the merger]"
   ]
  },
  {
   "cell_type": "markdown",
   "metadata": {
    "deletable": false,
    "nbgrader": {
     "checksum": "dd9fc721b7cf7f66587e93cbfb758034",
     "grade": true,
     "grade_id": "cell-7a1f367cd2854156",
     "locked": false,
     "points": 0.5,
     "schema_version": 1,
     "solution": true
    }
   },
   "source": [
    "___  \n",
    "Because the marginal costs of each firm, after the merger, are equal to 0, they can ask for a lower price because it was way cheaper to produce the products. On the other hand, due to the merger, each of the two firms obtain more power within their market so they excersize more influence on the pricelevel, which could result in a higher price.\n",
    "___"
   ]
  },
  {
   "cell_type": "markdown",
   "metadata": {
    "deletable": false,
    "editable": false,
    "nbgrader": {
     "checksum": "e1e41dbf14c605bf91cdc78f70eada99",
     "grade": false,
     "grade_id": "cell-06ed6044f8938a45",
     "locked": true,
     "schema_version": 1,
     "solution": false
    }
   },
   "source": [
    "#### g) [0.5 points] Make a graph with the Herfindahl index on the horizontal axis and the equilibrium price on the vertical axis. This is straightforward for $(H,P)$ after the merger as both values are in the dataframe. Add in another color, the pre-merger combination `(H0,P0)` that we calculated above."
   ]
  },
  {
   "cell_type": "code",
   "execution_count": 12,
   "metadata": {
    "deletable": false,
    "nbgrader": {
     "checksum": "51cfaacbaf533e85d9794bc74712afd5",
     "grade": true,
     "grade_id": "cell-d647464d04870b73",
     "locked": false,
     "points": 0.5,
     "schema_version": 1,
     "solution": true
    }
   },
   "outputs": [
    {
     "data": {
      "image/png": "[encoded data removed]",
      "text/plain": [
       "<matplotlib.figure.Figure at 0x28fe7352eb8>"
      ]
     },
     "metadata": {},
     "output_type": "display_data"
    }
   ],
   "source": [
    "plt.figure(figsize = (20, 5))\n",
    "plt.plot(df_after_merger['Herfindahl_Index'], df_after_merger['equilibrium_price'], 'bo', markersize = 2)\n",
    "plt.plot( H0, P0, 'ro', label = '(H0, P0)')\n",
    "plt.xlabel('Herfindahl Index')\n",
    "plt.ylabel('P', rotation= 0)\n",
    "plt.show()"
   ]
  },
  {
   "cell_type": "markdown",
   "metadata": {
    "deletable": false,
    "editable": false,
    "nbgrader": {
     "checksum": "11b6609131b1c25886f2c6cafe0f7a59",
     "grade": false,
     "grade_id": "cell-5c5e5776a7c135a2",
     "locked": true,
     "schema_version": 1,
     "solution": false
    }
   },
   "source": [
    "#### h) [0.5 points] Use the graph under g) to discuss the relation between the Herfindahl index and the equilibrium price. To illustrate, some people think that lower values of the Herfindahl index are associated with more competitive outcome. Would you agree with this?"
   ]
  },
  {
   "cell_type": "markdown",
   "metadata": {
    "collapsed": true,
    "deletable": false,
    "nbgrader": {
     "checksum": "3d396887dde3b00420c623b9f4ea8ed2",
     "grade": true,
     "grade_id": "cell-cbd89d483b23a953",
     "locked": false,
     "points": 0.5,
     "schema_version": 1,
     "solution": true
    }
   },
   "source": [
    "___\n",
    "We can see in the graph of g), that a lower herfindahl index gives a higher price. If we leave the red dot out of consideration, we would say that a lower herfindahl index means a lower rate of competition, in a way that the firms within this market can agree on a price them selfs.\n",
    "___"
   ]
  },
  {
   "cell_type": "markdown",
   "metadata": {},
   "source": [
    "## Github\n",
    "\n",
    "After you have finished, we need to upload this notebook on github. Make sure that you upload the file on the github page of each collaborator."
   ]
  },
  {
   "cell_type": "markdown",
   "metadata": {},
   "source": [
    "Instructions on how to upload this on github can be found [on this page](http://janboone.github.io/programming-for-economists/github.html). This page has two screencasts: one shows how to drag the notebook onto your github page, the other shows how you can use the command line to upload your notebook.\n"
   ]
  },
  {
   "cell_type": "markdown",
   "metadata": {},
   "source": [
    "Remember to update the README file in your repository to include a link to this notebook on github.\n",
    "\n",
    "\n",
    "The links that you should post start with “github.com/” and are NOT of the form “http://localhost”. Make sure you test your links after uploading."
   ]
  },
  {
   "cell_type": "code",
   "execution_count": null,
   "metadata": {},
   "outputs": [],
   "source": []
  }
 ],
 "metadata": {
  "anaconda-cloud": {},
  "kernelspec": {
   "display_name": "Python 3",
   "language": "python",
   "name": "python3"
  },
  "language_info": {
   "codemirror_mode": {
    "name": "ipython",
    "version": 3
   },
   "file_extension": ".py",
   "mimetype": "text/x-python",
   "name": "python",
   "nbconvert_exporter": "python",
   "pygments_lexer": "ipython3",
   "version": "3.6.4"
  }
 },
 "nbformat": 4,
 "nbformat_minor": 1
}
